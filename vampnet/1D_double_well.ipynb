{
 "cells": [
  {
   "cell_type": "markdown",
   "metadata": {},
   "source": [
    "# Import all the packages used"
   ]
  },
  {
   "cell_type": "code",
   "execution_count": null,
   "metadata": {},
   "outputs": [],
   "source": [
    "import numpy as np\n",
    "import matplotlib.pyplot as plt\n",
    "%matplotlib inline\n",
    "import vampnet\n",
    "from vampnet import data_generator\n",
    "from tensorflow import keras\n",
    "# from keras.models import Model\n",
    "from tensorflow.python.keras.models import Model\n",
    "from keras.layers import Dense, Activation, Flatten, Input, BatchNormalization, concatenate\n",
    "# from tensorflow.python.keras.layers import Dense, Activation, Flatten, Input, BatchNormalization, concatenate\n",
    "from keras import optimizers\n",
    "# from tensorflow.python.keras import optimizers\n",
    "import tensorflow as tf\n",
    "from keras.backend import clear_session"
   ]
  },
  {
   "cell_type": "code",
   "execution_count": null,
   "metadata": {},
   "outputs": [],
   "source": [
    "# generate 50000 frames and energy values\n",
    "datapoints = int(5e4)"
   ]
  },
  {
   "cell_type": "code",
   "execution_count": null,
   "metadata": {},
   "outputs": [],
   "source": [
    "traj_whole = data_generator.get_asymmetric_double_well_data(datapoints)\n",
    "# To fit the dataformat\n",
    "traj_whole = np.expand_dims(traj_whole, 1)\n",
    "traj_data_points, input_size = traj_whole.shape"
   ]
  },
  {
   "cell_type": "code",
   "execution_count": null,
   "metadata": {},
   "outputs": [
    {
     "data": {
      "image/png": "[encoded data removed]",
      "text/plain": [
       "<Figure size 432x144 with 1 Axes>"
      ]
     },
     "metadata": {
      "needs_background": "light"
     },
     "output_type": "display_data"
    }
   ],
   "source": [
    "x = np.linspace(-1,5,500)\n",
    "plt.figure(figsize=(6,2))\n",
    "plt.ylim(-15,10)\n",
    "plt.xlim(-1,5)\n",
    "plt.plot(x,data_generator.asymmetric_double_well_energy(x), lw = 2)\n",
    "plt.xlabel('Position x / a.u.', fontsize = 16)\n",
    "plt.ylabel('Pot. energy / a.u.', fontsize = 16)\n",
    "plt.xticks(fontsize = 14)\n",
    "\n",
    "plt.yticks(fontsize = 14);"
   ]
  },
  {
   "cell_type": "code",
   "execution_count": null,
   "metadata": {},
   "outputs": [],
   "source": [
    "# All Hyperparameters\n",
    "\n",
    "# Tau, how much is the timeshift of the two datasets\n",
    "tau = 1\n",
    "\n",
    "# Batch size for Stochastic Gradient descent\n",
    "batch_size = 2048\n",
    "\n",
    "# Which trajectory points percentage is used as training\n",
    "train_ratio = 0.9\n",
    "\n",
    "# How many hidden layers the network has\n",
    "network_depth = 4\n",
    "\n",
    "# Width of every layer\n",
    "layer_width = 20\n",
    "nodes = [layer_width]*network_depth\n",
    "# Learning rate used for the ADAM optimizer\n",
    "learning_rate = 0.0001\n",
    "\n",
    "# How many output states the network has\n",
    "output_size = 5\n",
    "\n",
    "# Iteration over the training set in the fitting process\n",
    "nb_epoch = 300"
   ]
  },
  {
   "cell_type": "code",
   "execution_count": null,
   "metadata": {},
   "outputs": [],
   "source": [
    "epsilon = 1e-5\n",
    "vamp = vampnet.VampnetTools(epsilon = epsilon)"
   ]
  },
  {
   "cell_type": "code",
   "execution_count": null,
   "metadata": {},
   "outputs": [],
   "source": [
    "# Shuffle trajectory and lagged trajectory together\n",
    "length_data = traj_data_points - tau\n",
    "\n",
    "traj_ord= traj_whole[:length_data]\n",
    "traj_ord_lag = traj_whole[tau:length_data+tau]\n",
    "\n",
    "indexes = np.arange(length_data)\n",
    "np.random.shuffle(indexes)\n",
    "\n",
    "\n",
    "\n",
    "traj = traj_ord[indexes]\n",
    "traj_lag = traj_ord_lag[indexes]\n"
   ]
  },
  {
   "cell_type": "code",
   "execution_count": null,
   "metadata": {},
   "outputs": [],
   "source": [
    "# Prepare data for tensorflow usage\n",
    "length_train = int(np.floor(length_data * train_ratio))\n",
    "length_vali = length_data - length_train\n",
    "\n",
    "traj_data_train = traj[:length_train]\n",
    "traj_data_train_lag = traj_lag[:length_train]\n",
    "\n",
    "traj_data_valid = traj[length_train:]\n",
    "traj_data_valid_lag = traj_lag[length_train:]\n",
    "\n",
    "#Data used for states ordering\n",
    "X1 = traj_ord[:length_data].astype('float32')\n",
    "X2 = traj_ord_lag[:length_data].astype('float32')\n",
    "\n",
    "# Input of the first network\n",
    "X1_train = traj_data_train.astype('float32')\n",
    "X2_train  = traj_data_train_lag.astype('float32')\n",
    "\n",
    "# Input for validation\n",
    "X1_vali = traj_data_valid.astype('float32')\n",
    "X2_vali = traj_data_valid_lag.astype('float32')\n",
    "\n",
    "# Needs a Y-train set which we dont have.\n",
    "Y_train = np.zeros((length_train,2*output_size)).astype('float32')\n",
    "Y_vali = np.zeros((length_vali,2*output_size)).astype('float32')"
   ]
  },
  {
   "cell_type": "code",
   "execution_count": null,
   "metadata": {},
   "outputs": [
    {
     "name": "stdout",
     "output_type": "stream",
     "text": [
      "tensorflow                   2.9.1\n",
      "tensorflow-estimator         2.9.0\n",
      "tensorflow-io-gcs-filesystem 0.26.0\n",
      "Note: you may need to restart the kernel to use updated packages.\n"
     ]
    }
   ],
   "source": [
    "pip list | grep tensorflow"
   ]
  },
  {
   "cell_type": "code",
   "execution_count": null,
   "metadata": {},
   "outputs": [
    {
     "ename": "AttributeError",
     "evalue": "in user code:\n\n    File \"/Users/maya/Desktop/lab/deeptime/deeptime/vampnet/vampnet/vampnet.py\", line 805, in _loss_VAMP_sym  *\n        cov_00_ir, cov_01  = self._build_vamp_matrices_rev(x, y, batch_size)\n    File \"/Users/maya/Desktop/lab/deeptime/deeptime/vampnet/vampnet/vampnet.py\", line 758, in _build_vamp_matrices_rev  *\n        auto_cov_inv_root = self._inv(auto_cov, ret_sqrt=True)\n    File \"/Users/maya/Desktop/lab/deeptime/deeptime/vampnet/vampnet/vampnet.py\", line 609, in _inv  *\n        eigval_all, eigvec_all = tf.SelfAdjointEig(x)\n\n    AttributeError: module 'tensorflow' has no attribute 'SelfAdjointEig'\n",
     "output_type": "error",
     "traceback": [
      "\u001b[0;31m---------------------------------------------------------------------------\u001b[0m",
      "\u001b[0;31mAttributeError\u001b[0m                            Traceback (most recent call last)",
      "\u001b[1;32m/Users/maya/Desktop/lab/deeptime/deeptime/vampnet/1D_double_well.ipynb Cell 13'\u001b[0m in \u001b[0;36m<cell line: 60>\u001b[0;34m()\u001b[0m\n\u001b[1;32m     <a href='vscode-notebook-cell:/Users/maya/Desktop/lab/deeptime/deeptime/vampnet/1D_double_well.ipynb#ch0000012?line=59'>60</a>\u001b[0m \u001b[39mfor\u001b[39;00m l_index, loss \u001b[39min\u001b[39;00m \u001b[39menumerate\u001b[39m(losses):\n\u001b[1;32m     <a href='vscode-notebook-cell:/Users/maya/Desktop/lab/deeptime/deeptime/vampnet/1D_double_well.ipynb#ch0000012?line=61'>62</a>\u001b[0m     model\u001b[39m.\u001b[39mcompile(optimizer \u001b[39m=\u001b[39m \u001b[39m'\u001b[39m\u001b[39madam\u001b[39m\u001b[39m'\u001b[39m, loss \u001b[39m=\u001b[39m loss, metrics \u001b[39m=\u001b[39m [vamp\u001b[39m.\u001b[39mmetric_VAMP])\n\u001b[0;32m---> <a href='vscode-notebook-cell:/Users/maya/Desktop/lab/deeptime/deeptime/vampnet/1D_double_well.ipynb#ch0000012?line=63'>64</a>\u001b[0m     hist \u001b[39m=\u001b[39m model\u001b[39m.\u001b[39;49mfit([X1_train, X2_train], Y_train ,batch_size\u001b[39m=\u001b[39;49mbatch_size, epochs\u001b[39m=\u001b[39;49mnb_epoch, verbose\u001b[39m=\u001b[39;49m\u001b[39m0\u001b[39;49m,\n\u001b[1;32m     <a href='vscode-notebook-cell:/Users/maya/Desktop/lab/deeptime/deeptime/vampnet/1D_double_well.ipynb#ch0000012?line=64'>65</a>\u001b[0m                      validation_data\u001b[39m=\u001b[39;49m([X1_vali, X2_vali], Y_vali))\n\u001b[1;32m     <a href='vscode-notebook-cell:/Users/maya/Desktop/lab/deeptime/deeptime/vampnet/1D_double_well.ipynb#ch0000012?line=66'>67</a>\u001b[0m     temp \u001b[39m=\u001b[39m model\u001b[39m.\u001b[39mpredict([traj_ord, traj_ord_lag], batch_size\u001b[39m=\u001b[39mnp\u001b[39m.\u001b[39mshape(X1_vali)[\u001b[39m0\u001b[39m])\n\u001b[1;32m     <a href='vscode-notebook-cell:/Users/maya/Desktop/lab/deeptime/deeptime/vampnet/1D_double_well.ipynb#ch0000012?line=68'>69</a>\u001b[0m     x_a \u001b[39m=\u001b[39m temp[:,:output_size]\n",
      "File \u001b[0;32m/Library/Frameworks/Python.framework/Versions/3.8/lib/python3.8/site-packages/tensorflow/python/keras/engine/training.py:1189\u001b[0m, in \u001b[0;36mModel.fit\u001b[0;34m(self, x, y, batch_size, epochs, verbose, callbacks, validation_split, validation_data, shuffle, class_weight, sample_weight, initial_epoch, steps_per_epoch, validation_steps, validation_batch_size, validation_freq, max_queue_size, workers, use_multiprocessing)\u001b[0m\n\u001b[1;32m   1182\u001b[0m \u001b[39mwith\u001b[39;00m trace\u001b[39m.\u001b[39mTrace(\n\u001b[1;32m   1183\u001b[0m     \u001b[39m'\u001b[39m\u001b[39mtrain\u001b[39m\u001b[39m'\u001b[39m,\n\u001b[1;32m   1184\u001b[0m     epoch_num\u001b[39m=\u001b[39mepoch,\n\u001b[1;32m   1185\u001b[0m     step_num\u001b[39m=\u001b[39mstep,\n\u001b[1;32m   1186\u001b[0m     batch_size\u001b[39m=\u001b[39mbatch_size,\n\u001b[1;32m   1187\u001b[0m     _r\u001b[39m=\u001b[39m\u001b[39m1\u001b[39m):\n\u001b[1;32m   1188\u001b[0m   callbacks\u001b[39m.\u001b[39mon_train_batch_begin(step)\n\u001b[0;32m-> 1189\u001b[0m   tmp_logs \u001b[39m=\u001b[39m \u001b[39mself\u001b[39;49m\u001b[39m.\u001b[39;49mtrain_function(iterator)\n\u001b[1;32m   1190\u001b[0m   \u001b[39mif\u001b[39;00m data_handler\u001b[39m.\u001b[39mshould_sync:\n\u001b[1;32m   1191\u001b[0m     context\u001b[39m.\u001b[39masync_wait()\n",
      "File \u001b[0;32m/Library/Frameworks/Python.framework/Versions/3.8/lib/python3.8/site-packages/tensorflow/python/util/traceback_utils.py:153\u001b[0m, in \u001b[0;36mfilter_traceback.<locals>.error_handler\u001b[0;34m(*args, **kwargs)\u001b[0m\n\u001b[1;32m    151\u001b[0m \u001b[39mexcept\u001b[39;00m \u001b[39mException\u001b[39;00m \u001b[39mas\u001b[39;00m e:\n\u001b[1;32m    152\u001b[0m   filtered_tb \u001b[39m=\u001b[39m _process_traceback_frames(e\u001b[39m.\u001b[39m__traceback__)\n\u001b[0;32m--> 153\u001b[0m   \u001b[39mraise\u001b[39;00m e\u001b[39m.\u001b[39mwith_traceback(filtered_tb) \u001b[39mfrom\u001b[39;00m \u001b[39mNone\u001b[39m\n\u001b[1;32m    154\u001b[0m \u001b[39mfinally\u001b[39;00m:\n\u001b[1;32m    155\u001b[0m   \u001b[39mdel\u001b[39;00m filtered_tb\n",
      "File \u001b[0;32m/var/folders/gz/q2fd6h093nl1_7qk2mgc25xm0000gn/T/__autograph_generated_fileev73vyrs.py:15\u001b[0m, in \u001b[0;36mouter_factory.<locals>.inner_factory.<locals>.tf__train_function\u001b[0;34m(iterator)\u001b[0m\n\u001b[1;32m     13\u001b[0m \u001b[39mtry\u001b[39;00m:\n\u001b[1;32m     14\u001b[0m     do_return \u001b[39m=\u001b[39m \u001b[39mTrue\u001b[39;00m\n\u001b[0;32m---> 15\u001b[0m     retval_ \u001b[39m=\u001b[39m ag__\u001b[39m.\u001b[39mconverted_call(ag__\u001b[39m.\u001b[39mld(step_function), (ag__\u001b[39m.\u001b[39mld(\u001b[39mself\u001b[39m), ag__\u001b[39m.\u001b[39mld(iterator)), \u001b[39mNone\u001b[39;00m, fscope)\n\u001b[1;32m     16\u001b[0m \u001b[39mexcept\u001b[39;00m:\n\u001b[1;32m     17\u001b[0m     do_return \u001b[39m=\u001b[39m \u001b[39mFalse\u001b[39;00m\n",
      "File \u001b[0;32m/var/folders/gz/q2fd6h093nl1_7qk2mgc25xm0000gn/T/__autograph_generated_filemttftxk3.py:12\u001b[0m, in \u001b[0;36mouter_factory.<locals>.inner_factory.<locals>.tf___loss_VAMP_sym\u001b[0;34m(self, y_true, y_pred)\u001b[0m\n\u001b[1;32m     10\u001b[0m retval_ \u001b[39m=\u001b[39m ag__\u001b[39m.\u001b[39mUndefinedReturnValue()\n\u001b[1;32m     11\u001b[0m (x, y, batch_size, output_size) \u001b[39m=\u001b[39m ag__\u001b[39m.\u001b[39mconverted_call(ag__\u001b[39m.\u001b[39mld(\u001b[39mself\u001b[39m)\u001b[39m.\u001b[39m_prep_data, (ag__\u001b[39m.\u001b[39mld(y_pred),), \u001b[39mNone\u001b[39;00m, fscope)\n\u001b[0;32m---> 12\u001b[0m (cov_00_ir, cov_01) \u001b[39m=\u001b[39m ag__\u001b[39m.\u001b[39mconverted_call(ag__\u001b[39m.\u001b[39mld(\u001b[39mself\u001b[39m)\u001b[39m.\u001b[39m_build_vamp_matrices_rev, (ag__\u001b[39m.\u001b[39mld(x), ag__\u001b[39m.\u001b[39mld(y), ag__\u001b[39m.\u001b[39mld(batch_size)), \u001b[39mNone\u001b[39;00m, fscope)\n\u001b[1;32m     13\u001b[0m vamp_matrix \u001b[39m=\u001b[39m ag__\u001b[39m.\u001b[39mconverted_call(ag__\u001b[39m.\u001b[39mld(tf)\u001b[39m.\u001b[39mmatmul, (ag__\u001b[39m.\u001b[39mld(cov_00_ir), ag__\u001b[39m.\u001b[39mconverted_call(ag__\u001b[39m.\u001b[39mld(tf)\u001b[39m.\u001b[39mmatmul, (ag__\u001b[39m.\u001b[39mld(cov_01), ag__\u001b[39m.\u001b[39mld(cov_00_ir)), \u001b[39mNone\u001b[39;00m, fscope)), \u001b[39mNone\u001b[39;00m, fscope)\n\u001b[1;32m     14\u001b[0m (D, U, V) \u001b[39m=\u001b[39m ag__\u001b[39m.\u001b[39mconverted_call(ag__\u001b[39m.\u001b[39mld(tf)\u001b[39m.\u001b[39msvd, (ag__\u001b[39m.\u001b[39mld(vamp_matrix),), \u001b[39mdict\u001b[39m(full_matrices\u001b[39m=\u001b[39m\u001b[39mTrue\u001b[39;00m), fscope)\n",
      "File \u001b[0;32m/var/folders/gz/q2fd6h093nl1_7qk2mgc25xm0000gn/T/__autograph_generated_filel_ezc1k8.py:17\u001b[0m, in \u001b[0;36mouter_factory.<locals>.inner_factory.<locals>.tf___build_vamp_matrices_rev\u001b[0;34m(self, x, y, b)\u001b[0m\n\u001b[1;32m     15\u001b[0m cov_11 \u001b[39m=\u001b[39m ((\u001b[39m1\u001b[39m \u001b[39m/\u001b[39m (ag__\u001b[39m.\u001b[39mld(b) \u001b[39m-\u001b[39m \u001b[39m1\u001b[39m)) \u001b[39m*\u001b[39m ag__\u001b[39m.\u001b[39mconverted_call(ag__\u001b[39m.\u001b[39mld(tf)\u001b[39m.\u001b[39mmatmul, (ag__\u001b[39m.\u001b[39mld(y), ag__\u001b[39m.\u001b[39mld(y)), \u001b[39mdict\u001b[39m(transpose_b\u001b[39m=\u001b[39m\u001b[39mTrue\u001b[39;00m), fscope))\n\u001b[1;32m     16\u001b[0m auto_cov \u001b[39m=\u001b[39m ((\u001b[39m1\u001b[39m \u001b[39m/\u001b[39m \u001b[39m2\u001b[39m) \u001b[39m*\u001b[39m (ag__\u001b[39m.\u001b[39mld(cov_00) \u001b[39m+\u001b[39m ag__\u001b[39m.\u001b[39mld(cov_11)))\n\u001b[0;32m---> 17\u001b[0m auto_cov_inv_root \u001b[39m=\u001b[39m ag__\u001b[39m.\u001b[39mconverted_call(ag__\u001b[39m.\u001b[39mld(\u001b[39mself\u001b[39m)\u001b[39m.\u001b[39m_inv, (ag__\u001b[39m.\u001b[39mld(auto_cov),), \u001b[39mdict\u001b[39m(ret_sqrt\u001b[39m=\u001b[39m\u001b[39mTrue\u001b[39;00m), fscope)\n\u001b[1;32m     18\u001b[0m \u001b[39mtry\u001b[39;00m:\n\u001b[1;32m     19\u001b[0m     do_return \u001b[39m=\u001b[39m \u001b[39mTrue\u001b[39;00m\n",
      "File \u001b[0;32m/var/folders/gz/q2fd6h093nl1_7qk2mgc25xm0000gn/T/__autograph_generated_filefj5_bad0.py:11\u001b[0m, in \u001b[0;36mouter_factory.<locals>.inner_factory.<locals>.tf___inv\u001b[0;34m(self, x, ret_sqrt)\u001b[0m\n\u001b[1;32m      9\u001b[0m do_return \u001b[39m=\u001b[39m \u001b[39mFalse\u001b[39;00m\n\u001b[1;32m     10\u001b[0m retval_ \u001b[39m=\u001b[39m ag__\u001b[39m.\u001b[39mUndefinedReturnValue()\n\u001b[0;32m---> 11\u001b[0m (eigval_all, eigvec_all) \u001b[39m=\u001b[39m ag__\u001b[39m.\u001b[39mconverted_call(ag__\u001b[39m.\u001b[39mld(tf)\u001b[39m.\u001b[39mSelfAdjointEig, (ag__\u001b[39m.\u001b[39mld(x),), \u001b[39mNone\u001b[39;00m, fscope)\n\u001b[1;32m     12\u001b[0m eig_th \u001b[39m=\u001b[39m ag__\u001b[39m.\u001b[39mconverted_call(ag__\u001b[39m.\u001b[39mld(tf)\u001b[39m.\u001b[39mconstant, (ag__\u001b[39m.\u001b[39mld(\u001b[39mself\u001b[39m)\u001b[39m.\u001b[39mepsilon,), \u001b[39mdict\u001b[39m(dtype\u001b[39m=\u001b[39mag__\u001b[39m.\u001b[39mld(tf)\u001b[39m.\u001b[39mfloat32), fscope)\n\u001b[1;32m     13\u001b[0m index_eig \u001b[39m=\u001b[39m ag__\u001b[39m.\u001b[39mconverted_call(ag__\u001b[39m.\u001b[39mld(tf)\u001b[39m.\u001b[39mto_int32, ((ag__\u001b[39m.\u001b[39mld(eigval_all) \u001b[39m>\u001b[39m ag__\u001b[39m.\u001b[39mld(eig_th)),), \u001b[39mNone\u001b[39;00m, fscope)\n",
      "\u001b[0;31mAttributeError\u001b[0m: in user code:\n\n    File \"/Users/maya/Desktop/lab/deeptime/deeptime/vampnet/vampnet/vampnet.py\", line 805, in _loss_VAMP_sym  *\n        cov_00_ir, cov_01  = self._build_vamp_matrices_rev(x, y, batch_size)\n    File \"/Users/maya/Desktop/lab/deeptime/deeptime/vampnet/vampnet/vampnet.py\", line 758, in _build_vamp_matrices_rev  *\n        auto_cov_inv_root = self._inv(auto_cov, ret_sqrt=True)\n    File \"/Users/maya/Desktop/lab/deeptime/deeptime/vampnet/vampnet/vampnet.py\", line 609, in _inv  *\n        eigval_all, eigvec_all = tf.SelfAdjointEig(x)\n\n    AttributeError: module 'tensorflow' has no attribute 'SelfAdjointEig'\n"
     ]
    }
   ],
   "source": [
    "if 'model' in globals():\n",
    "    del model\n",
    "    clear_session()\n",
    "# Build the model\n",
    "Data_X = Input(shape = (input_size,))\n",
    "Data_Y = Input(shape = (input_size,))\n",
    "\n",
    "# A batch normalization layer improves convergence speed\n",
    "#     bn_layer = BatchNormalization()\n",
    "bn_layer = Activation('linear')\n",
    "\n",
    "# Instance layers and assign them to the two lobes of the network\n",
    "dense_layers = [Dense(node, activation = 'relu',)\n",
    "                for node in nodes]\n",
    "\n",
    "lx_branch = bn_layer(Data_X)\n",
    "rx_branch = bn_layer(Data_Y)\n",
    "\n",
    "for i, layer in enumerate(dense_layers):\n",
    "\n",
    "    lx_branch = dense_layers[i](lx_branch)\n",
    "    rx_branch = dense_layers[i](rx_branch)\n",
    "\n",
    "\n",
    "# Add a softmax output layer.\n",
    "# Should be replaced with a linear activation layer if\n",
    "# the outputs of the network cannot be interpreted as states\n",
    "softmax = Dense(output_size, activation='softmax')\n",
    "\n",
    "lx_branch = softmax(lx_branch)\n",
    "rx_branch = softmax(rx_branch)\n",
    "\n",
    "# Merge both networks to train both at the same time\n",
    "merged = concatenate([lx_branch, rx_branch])\n",
    "\n",
    "# Initialize the model and the optimizer, and compile it with\n",
    "# the loss and metric functions from the VAMPnets package\n",
    "model = Model(inputs = [Data_X, Data_Y], outputs = merged)\n",
    "#     model.summary()\n",
    "# Compile it with our own loss-function\n",
    "adam = optimizers.Adam(lr = learning_rate)\n",
    "\n",
    "\n",
    "# Pretraining with VAMP with 'symmetrized' matrices yields a bad approximation of the \n",
    "# eigenvectors per se, but improves the 'readability' of the states identified by VAMP-2\n",
    "# which would otherwise be difficult to interprete.\n",
    "\n",
    "\n",
    "# IMPORTANT: the function vamp.loss_VAMP2_autograd can only be used with tensorflow 1.6 or more recent.\n",
    "# For older versions of TF, use the function vamp.loss_VAMP2\n",
    "\n",
    "losses = [\n",
    "    vamp._loss_VAMP_sym,\n",
    "    vamp.loss_VAMP2,\n",
    "]\n",
    "\n",
    "valid_metric = np.zeros((len(losses), nb_epoch))\n",
    "train_metric = np.zeros((len(losses), nb_epoch))\n",
    "\n",
    "for l_index, loss in enumerate(losses):\n",
    "    \n",
    "    model.compile(optimizer = 'adam', loss = loss, metrics = [vamp.metric_VAMP])\n",
    "    \n",
    "    hist = model.fit([X1_train, X2_train], Y_train ,batch_size=batch_size, epochs=nb_epoch, verbose=0,\n",
    "                     validation_data=([X1_vali, X2_vali], Y_vali))\n",
    "    \n",
    "    temp = model.predict([traj_ord, traj_ord_lag], batch_size=np.shape(X1_vali)[0])\n",
    "    \n",
    "    x_a = temp[:,:output_size]\n",
    "\n",
    "\n",
    "    X_Validation = np.squeeze(traj_ord)\n",
    "    for i in range(output_size):\n",
    "        plt.scatter(X_Validation, x_a[:,i], label= 'state '+str(i))\n",
    "    plt.title('State probabilities')\n",
    "    plt.legend()\n",
    "    plt.show()\n",
    "\n",
    "\n",
    "\n",
    "\n",
    "    states_prob_meanfree = x_a  - np.mean(x_a, axis=0)\n",
    "    tau_msm = 5\n",
    "    K_smt = vamp.estimate_koopman_op(states_prob_meanfree, tau_msm)\n",
    "\n",
    "    K_eigvals, K_eigvec = np.linalg.eig(np.real(K_smt))\n",
    "\n",
    "    index = np.argmax(np.real(K_eigvals))\n",
    "    real_eigfunc = states_prob_meanfree @ np.real(K_eigvec[:,index])\n",
    "\n",
    "    plt.scatter(X_Validation, real_eigfunc)\n",
    "    plt.title('Eigenvector')\n",
    "    plt.show()\n",
    "\n",
    "    valid_metric[l_index] = np.array(hist.history['val_metric_VAMP'])\n",
    "    train_metric[l_index] = np.array(hist.history['metric_VAMP'])\n",
    "\n",
    "valid_metric = np.reshape(valid_metric, (-1))\n",
    "train_metric = np.reshape(train_metric, (-1))"
   ]
  },
  {
   "cell_type": "markdown",
   "metadata": {},
   "source": [
    "# Training result visualization"
   ]
  },
  {
   "cell_type": "code",
   "execution_count": null,
   "metadata": {},
   "outputs": [],
   "source": [
    "plt.plot(train_metric, label = 'Training')\n",
    "plt.legend()\n",
    "plt.plot(valid_metric, label = 'Validation')\n",
    "plt.legend()\n",
    "\n",
    "plt.show()"
   ]
  },
  {
   "cell_type": "markdown",
   "metadata": {},
   "source": [
    "# Transform the input trajectory using the network"
   ]
  },
  {
   "cell_type": "code",
   "execution_count": null,
   "metadata": {},
   "outputs": [],
   "source": [
    "states_prob = model.predict([traj_ord, traj_ord_lag])[:, :output_size]\n",
    "\n",
    "# Order the output states based on their population\n",
    "coor_pred = np.argmax(states_prob, axis = 1)\n",
    "indexes = [np.where(coor_pred == np.multiply(np.ones_like(coor_pred), n)) for n in range(output_size)]\n",
    "states_num = [len(i[0]) for i in indexes]\n",
    "states_order = np.argsort(states_num).astype('int')[::-1]\n",
    "\n",
    "pred_ord = states_prob[:,states_order]"
   ]
  },
  {
   "cell_type": "markdown",
   "metadata": {},
   "source": [
    "# Visualize the population of the states"
   ]
  },
  {
   "cell_type": "code",
   "execution_count": null,
   "metadata": {},
   "outputs": [],
   "source": [
    "def print_states_pie_chart():\n",
    "    coors = []\n",
    "    maxi = np.max(pred_ord, axis= 1)\n",
    "\n",
    "    for i in range(output_size):\n",
    "        coors.append(len(np.where(pred_ord[:,i] == maxi)[0]))\n",
    "        \n",
    "    fig1, ax1 = plt.subplots()\n",
    "    ax1.pie(np.array(coors), autopct='%1.2f%%', startangle=90)\n",
    "    ax1.axis('equal')  # Equal aspect ratio ensures that pie is drawn as a circle.\n",
    "    print('States population: '+str(np.array(coors)/len(maxi)*100)+'%')\n",
    "    plt.show()\n",
    "\n",
    "print_states_pie_chart()"
   ]
  },
  {
   "cell_type": "markdown",
   "metadata": {},
   "source": [
    "# Estimate the implied timescales"
   ]
  },
  {
   "cell_type": "code",
   "execution_count": null,
   "metadata": {},
   "outputs": [],
   "source": [
    "max_tau = 15\n",
    "lag = np.arange(1, max_tau, 1)\n",
    "its = vamp.get_its(pred_ord, lag)\n",
    "vamp.plot_its(its, lag)"
   ]
  },
  {
   "cell_type": "markdown",
   "metadata": {},
   "source": [
    "# Chapman-Kolmogorov test for the estimated koopman operator"
   ]
  },
  {
   "cell_type": "code",
   "execution_count": null,
   "metadata": {},
   "outputs": [],
   "source": [
    "steps = 16\n",
    "tau_msm = 1\n",
    "predicted, estimated = vamp.get_ck_test(pred_ord, steps, tau_msm)\n",
    "vamp.plot_ck_test(predicted, estimated, output_size, steps, tau_msm)"
   ]
  },
  {
   "cell_type": "code",
   "execution_count": null,
   "metadata": {},
   "outputs": [],
   "source": []
  }
 ],
 "metadata": {
  "anaconda-cloud": {},
  "kernelspec": {
   "display_name": "Python 3.8.3 64-bit",
   "language": "python",
   "name": "python3"
  },
  "language_info": {
   "codemirror_mode": {
    "name": "ipython",
    "version": 3
   },
   "file_extension": ".py",
   "mimetype": "text/x-python",
   "name": "python",
   "nbconvert_exporter": "python",
   "pygments_lexer": "ipython3",
   "version": "3.8.3"
  },
  "vscode": {
   "interpreter": {
    "hash": "0adcc2737ebf6a4a119f135174df96668767fca1ef1112612db5ecadf2b6d608"
   }
  }
 },
 "nbformat": 4,
 "nbformat_minor": 1
}
